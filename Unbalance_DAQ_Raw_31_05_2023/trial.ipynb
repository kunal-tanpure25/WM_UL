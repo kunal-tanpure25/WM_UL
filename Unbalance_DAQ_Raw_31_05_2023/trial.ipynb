{
 "cells": [
  {
   "cell_type": "code",
   "execution_count": 6,
   "metadata": {},
   "outputs": [
    {
     "name": "stdout",
     "output_type": "stream",
     "text": [
      "Unnamed: 0    0\n",
      "Time          0\n",
      "RPM           0\n",
      "ACCx          0\n",
      "ACCy          0\n",
      "ACCz          0\n",
      "dtype: int64\n",
      "Rows with RPM above the threshold:\n",
      "        Time     RPM  ACCx  ACCy      ACCz\n",
      "18580  11:47  1001.0 -0.08  0.86  1.409586\n",
      "18584  11:47  1001.0 -0.08  0.86  1.409586\n",
      "18585  11:47  1001.0 -1.29  0.86  0.559913\n",
      "18586  11:48  1001.0 -0.90 -5.45  0.944444\n",
      "18587  11:48  1001.0 -0.24  0.24  1.406318\n",
      "...      ...     ...   ...   ...       ...\n",
      "24398  15:12  1001.0 -1.22  1.61  0.684096\n",
      "24399  15:12  1001.0 -1.22  1.61  0.684096\n",
      "24400  15:12  1001.0 -1.22  1.61  0.684096\n",
      "24401  15:12  1001.0 -1.22  1.61  0.684096\n",
      "24402  15:12  1001.0 -1.22  1.61  0.684096\n",
      "\n",
      "[5797 rows x 5 columns]\n"
     ]
    }
   ],
   "source": [
    "import pandas as pd\n",
    "\n",
    "trial = pd.read_csv(\"0un.csv\")\n",
    "print(trial.isnull().sum())\n",
    "trial = trial.drop(\"Unnamed: 0\",axis=1)\n",
    "trial['Time'] = pd.to_datetime(trial['Time'], unit='ms').dt.strftime('%M:%S')\n",
    "threshold = 1000\n",
    "filtered_rows = trial[(trial['RPM'] > threshold)]\n",
    "print(\"Rows with RPM above the threshold:\")\n",
    "print(filtered_rows)"
   ]
  },
  {
   "cell_type": "code",
   "execution_count": 7,
   "metadata": {},
   "outputs": [
    {
     "name": "stdout",
     "output_type": "stream",
     "text": [
      "        Time   RPM  ACCx  ACCy      ACCz\n",
      "0      00:54  85.0  0.27 -0.98  0.995643\n",
      "1      00:54  85.0  0.35 -1.10  1.004357\n",
      "2      00:54  85.0  0.24 -1.02  1.000000\n",
      "3      00:54  85.0  0.04 -0.47  0.973856\n",
      "4      00:54  85.0  0.31 -1.96  1.013072\n",
      "...      ...   ...   ...   ...       ...\n",
      "27107  16:48   0.0  0.27 -1.02  1.000000\n",
      "27108  16:48   0.0  0.27 -1.02  1.000000\n",
      "27109  16:48   0.0  0.27 -1.02  1.000000\n",
      "27110  16:48   0.0  0.27 -1.02  1.000000\n",
      "27111  16:48   0.0  0.27 -1.02  1.000000\n",
      "\n",
      "[21315 rows x 5 columns]\n"
     ]
    }
   ],
   "source": [
    "trial = trial.drop(filtered_rows.index)\n",
    "print(trial)"
   ]
  },
  {
   "cell_type": "code",
   "execution_count": 8,
   "metadata": {},
   "outputs": [],
   "source": [
    "trial.to_csv(\"trail1.csv\",index=False)"
   ]
  }
 ],
 "metadata": {
  "kernelspec": {
   "display_name": "Python 3",
   "language": "python",
   "name": "python3"
  },
  "language_info": {
   "codemirror_mode": {
    "name": "ipython",
    "version": 3
   },
   "file_extension": ".py",
   "mimetype": "text/x-python",
   "name": "python",
   "nbconvert_exporter": "python",
   "pygments_lexer": "ipython3",
   "version": "3.11.6"
  }
 },
 "nbformat": 4,
 "nbformat_minor": 2
}
